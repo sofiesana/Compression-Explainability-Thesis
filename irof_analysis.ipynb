{
 "cells": [
  {
   "cell_type": "code",
   "execution_count": 2,
   "metadata": {},
   "outputs": [],
   "source": [
    "from prune_utils import *\n",
    "from dataloaders import *\n",
    "from scene_net import *\n",
    "from evaluation import *\n",
    "from quantus.metrics.faithfulness.irof import IROF\n",
    "import quantus\n",
    "import torch\n",
    "from torch.utils.data import DataLoader\n",
    "from dataloaders import *\n",
    "from torch.autograd import Variable\n",
    "import captum"
   ]
  },
  {
   "cell_type": "code",
   "execution_count": 3,
   "metadata": {},
   "outputs": [],
   "source": [
    "device = torch.device(\"cuda\" if torch.cuda.is_available() else \"cpu\")"
   ]
  },
  {
   "cell_type": "code",
   "execution_count": 4,
   "metadata": {},
   "outputs": [
    {
     "name": "stdout",
     "output_type": "stream",
     "text": [
      "d:\\Documents\\University\\AI BSc\\Year 3\\Thesis\\DiSparse-Multitask-Model-Compression\n"
     ]
    }
   ],
   "source": [
    "print(os.getcwd())"
   ]
  },
  {
   "cell_type": "code",
   "execution_count": 5,
   "metadata": {},
   "outputs": [],
   "source": [
    "DATA_ROOT = 'data/nyu_v2/nyu_v2'\n",
    "TASKS = [\"seg\", \"sn\"]\n",
    "TASKS_NUM_CLASS = [40, 3]\n",
    "IMAGE_SHAPE = (480, 640)"
   ]
  },
  {
   "cell_type": "code",
   "execution_count": 6,
   "metadata": {},
   "outputs": [
    {
     "name": "stdout",
     "output_type": "stream",
     "text": [
      "NYU_v2\n"
     ]
    }
   ],
   "source": [
    "test_dataset = NYU_v2(DATA_ROOT, 'test')\n",
    "test_loader = DataLoader(test_dataset, batch_size=1, num_workers=8, shuffle=True, pin_memory=True)"
   ]
  },
  {
   "cell_type": "code",
   "execution_count": 8,
   "metadata": {},
   "outputs": [],
   "source": [
    "model = SceneNet(TASKS_NUM_CLASS)"
   ]
  },
  {
   "cell_type": "code",
   "execution_count": 9,
   "metadata": {},
   "outputs": [],
   "source": [
    "for module in model.modules():\n",
    "    # Check if it's basic block\n",
    "    if isinstance(module, nn.modules.conv.Conv2d) or isinstance(module, nn.modules.Linear):\n",
    "        module = prune.identity(module, 'weight')"
   ]
  },
  {
   "cell_type": "code",
   "execution_count": 10,
   "metadata": {},
   "outputs": [
    {
     "data": {
      "text/plain": [
       "<All keys matched successfully>"
      ]
     },
     "execution_count": 10,
     "metadata": {},
     "output_type": "execute_result"
    }
   ],
   "source": [
    "# 3. Load the state dictionary into your model\n",
    "model.load_state_dict(torch.load('data/models/best_nyuv2_disparse_pt_90.pth', map_location=torch.device('cpu')))"
   ]
  },
  {
   "cell_type": "code",
   "execution_count": 11,
   "metadata": {},
   "outputs": [],
   "source": [
    "irof_metric = quantus.IROF(segmentation_method='slic', abs=False, normalise=True)"
   ]
  },
  {
   "cell_type": "code",
   "execution_count": 12,
   "metadata": {},
   "outputs": [
    {
     "data": {
      "text/plain": [
       "<quantus.metrics.faithfulness.irof.IROF at 0x1b43e1e6e60>"
      ]
     },
     "execution_count": 12,
     "metadata": {},
     "output_type": "execute_result"
    }
   ],
   "source": [
    "irof_metric"
   ]
  },
  {
   "cell_type": "code",
   "execution_count": 13,
   "metadata": {},
   "outputs": [],
   "source": [
    "#Prepare your data:\n",
    "#Ensure you have your model\n",
    "#input data (x_batch), \n",
    "#corresponding ground truth labels (y_batch), \n",
    "#and optionally pre-computed attributions (a_batch)."
   ]
  },
  {
   "cell_type": "code",
   "execution_count": 14,
   "metadata": {},
   "outputs": [],
   "source": [
    "# # Iterate over batches in the dataloader\n",
    "# for i, gt_batch in enumerate(test_loader):\n",
    "#     print(i)\n",
    "#     model.eval()\n",
    "#     gt_batch[\"img\"] = Variable(gt_batch[\"img\"]).to(device)\n",
    "#     if \"seg\" in gt_batch:\n",
    "#         gt_batch[\"seg\"] = Variable(gt_batch[\"seg\"]).to(device)\n",
    "#     if \"depth\" in gt_batch:\n",
    "#         gt_batch[\"depth\"] = Variable(gt_batch[\"depth\"]).to(device)\n",
    "#     if \"normal\" in gt_batch:\n",
    "#         gt_batch[\"normal\"] = Variable(gt_batch[\"normal\"]).to(device)\n",
    "#     if \"keypoint\" in gt_batch:\n",
    "#         gt_batch[\"keypoint\"] = Variable(\n",
    "#             gt_batch[\"keypoint\"]).to(device)\n",
    "#     if \"edge\" in gt_batch:\n",
    "#         gt_batch[\"edge\"] = Variable(gt_batch[\"edge\"]).to(device)\n",
    "\n",
    "#     # Call the metric instance to produce scores.\n",
    "#     results = {method: irof_metric(model=model, \n",
    "#                                     x_batch=gt_batch[\"img\"],\n",
    "#                                     y_batch=gt_batch[\"seg\"],\n",
    "#                                     a_batch=None,\n",
    "#                                     device=device,\n",
    "#                                     explain_func=captum.explain, \n",
    "#                                     explain_func_kwargs={\"method\": method}) for method in [\"Saliency\", \"IntegratedGradients\"]}\n",
    "\n",
    "#     # Plot example!\n",
    "#     #region_perturb.plot(results=results) \n",
    "#     results"
   ]
  },
  {
   "cell_type": "code",
   "execution_count": 15,
   "metadata": {},
   "outputs": [
    {
     "name": "stdout",
     "output_type": "stream",
     "text": [
      "2.1.1+cpu\n"
     ]
    }
   ],
   "source": [
    "print(torch.__version__)"
   ]
  },
  {
   "cell_type": "code",
   "execution_count": 20,
   "metadata": {},
   "outputs": [],
   "source": [
    "# Iterate over batches in the dataloader\n",
    "for i, gt_batch in enumerate(test_loader):\n",
    "    print(i)\n",
    "    model.eval()\n",
    "    gt_batch[\"img\"] = Variable(gt_batch[\"img\"]).to(device)\n",
    "    if \"seg\" in gt_batch:\n",
    "        gt_batch[\"seg\"] = Variable(gt_batch[\"seg\"]).to(device)\n",
    "    if \"depth\" in gt_batch:\n",
    "        gt_batch[\"depth\"] = Variable(gt_batch[\"depth\"]).to(device)\n",
    "    if \"normal\" in gt_batch:\n",
    "        gt_batch[\"normal\"] = Variable(gt_batch[\"normal\"]).to(device)\n",
    "    if \"keypoint\" in gt_batch:\n",
    "        gt_batch[\"keypoint\"] = Variable(\n",
    "            gt_batch[\"keypoint\"]).to(device)\n",
    "    if \"edge\" in gt_batch:\n",
    "        gt_batch[\"edge\"] = Variable(gt_batch[\"edge\"]).to(device)\n",
    "\n",
    "    # Return IFOF scores in an one-liner - by calling the metric instance.\n",
    "    scores = {method: quantus.IROF(segmentation_method=\"slic\",\n",
    "        perturb_baseline=\"mean\",\n",
    "        perturb_func=quantus.perturb_func.baseline_replacement_by_indices,\n",
    "        return_aggregate=False,\n",
    "    )(model=model,\n",
    "    x_batch=gt_batch[\"img\"],\n",
    "    y_batch=gt_batch[\"seg\"],\n",
    "    a_batch=None,\n",
    "    device=device,\n",
    "    explain_func=quantus.explain, \n",
    "    explain_func_kwargs={\"method\": method}) for method in [\"Saliency\"]}\n",
    "\n",
    "    scores # felzenswalb"
   ]
  }
 ],
 "metadata": {
  "kernelspec": {
   "display_name": "nashmtl",
   "language": "python",
   "name": "python3"
  },
  "language_info": {
   "codemirror_mode": {
    "name": "ipython",
    "version": 3
   },
   "file_extension": ".py",
   "mimetype": "text/x-python",
   "name": "python",
   "nbconvert_exporter": "python",
   "pygments_lexer": "ipython3",
   "version": "3.9.19"
  }
 },
 "nbformat": 4,
 "nbformat_minor": 2
}
