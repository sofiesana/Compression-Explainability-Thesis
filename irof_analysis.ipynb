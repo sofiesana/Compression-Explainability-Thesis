{
 "cells": [
  {
   "cell_type": "code",
   "execution_count": 19,
   "metadata": {},
   "outputs": [
    {
     "name": "stderr",
     "output_type": "stream",
     "text": [
      "WARNING: Ignoring invalid distribution -orch (d:\\wpsystem\\s-1-5-21-3730388724-1026785739-871555777-1001\\appdata\\local\\packages\\pythonsoftwarefoundation.python.3.10_qbz5n2kfra8p0\\localcache\\local-packages\\python310\\site-packages)\n",
      "WARNING: Ignoring invalid distribution -orch (d:\\wpsystem\\s-1-5-21-3730388724-1026785739-871555777-1001\\appdata\\local\\packages\\pythonsoftwarefoundation.python.3.10_qbz5n2kfra8p0\\localcache\\local-packages\\python310\\site-packages)\n",
      "WARNING: Ignoring invalid distribution -orch (d:\\wpsystem\\s-1-5-21-3730388724-1026785739-871555777-1001\\appdata\\local\\packages\\pythonsoftwarefoundation.python.3.10_qbz5n2kfra8p0\\localcache\\local-packages\\python310\\site-packages)\n",
      "ERROR: Could not install packages due to an OSError: [WinError 5] Access is denied: 'd:\\\\wpsystem\\\\s-1-5-21-3730388724-1026785739-871555777-1001\\\\appdata\\\\local\\\\packages\\\\pythonsoftwarefoundation.python.3.10_qbz5n2kfra8p0\\\\localcache\\\\local-packages\\\\python310\\\\site-packages\\\\torch\\\\_c.cp310-win_amd64.pyd'\n",
      "Check the permissions.\n",
      "\n",
      "WARNING: Ignoring invalid distribution -orch (d:\\wpsystem\\s-1-5-21-3730388724-1026785739-871555777-1001\\appdata\\local\\packages\\pythonsoftwarefoundation.python.3.10_qbz5n2kfra8p0\\localcache\\local-packages\\python310\\site-packages)\n",
      "\n",
      "[notice] A new release of pip is available: 23.1.2 -> 24.0\n",
      "[notice] To update, run: C:\\Users\\sophi\\AppData\\Local\\Microsoft\\WindowsApps\\PythonSoftwareFoundation.Python.3.10_qbz5n2kfra8p0\\python.exe -m pip install --upgrade pip\n"
     ]
    },
    {
     "name": "stdout",
     "output_type": "stream",
     "text": [
      "Requirement already satisfied: quantus[captum] in d:\\wpsystem\\s-1-5-21-3730388724-1026785739-871555777-1001\\appdata\\local\\packages\\pythonsoftwarefoundation.python.3.10_qbz5n2kfra8p0\\localcache\\local-packages\\python310\\site-packages (0.5.3)\n",
      "Requirement already satisfied: numpy>=1.19.5 in d:\\wpsystem\\s-1-5-21-3730388724-1026785739-871555777-1001\\appdata\\local\\packages\\pythonsoftwarefoundation.python.3.10_qbz5n2kfra8p0\\localcache\\local-packages\\python310\\site-packages (from quantus[captum]) (1.23.3)\n",
      "Requirement already satisfied: pandas>=1.5.3 in d:\\wpsystem\\s-1-5-21-3730388724-1026785739-871555777-1001\\appdata\\local\\packages\\pythonsoftwarefoundation.python.3.10_qbz5n2kfra8p0\\localcache\\local-packages\\python310\\site-packages (from quantus[captum]) (2.0.1)\n",
      "Requirement already satisfied: opencv-python>=4.5.5.62 in d:\\wpsystem\\s-1-5-21-3730388724-1026785739-871555777-1001\\appdata\\local\\packages\\pythonsoftwarefoundation.python.3.10_qbz5n2kfra8p0\\localcache\\local-packages\\python310\\site-packages (from quantus[captum]) (4.8.1.78)\n",
      "Requirement already satisfied: scikit-image>=0.19.3 in d:\\wpsystem\\s-1-5-21-3730388724-1026785739-871555777-1001\\appdata\\local\\packages\\pythonsoftwarefoundation.python.3.10_qbz5n2kfra8p0\\localcache\\local-packages\\python310\\site-packages (from quantus[captum]) (0.22.0)\n",
      "Requirement already satisfied: scikit-learn>=0.24.2 in d:\\wpsystem\\s-1-5-21-3730388724-1026785739-871555777-1001\\appdata\\local\\packages\\pythonsoftwarefoundation.python.3.10_qbz5n2kfra8p0\\localcache\\local-packages\\python310\\site-packages (from quantus[captum]) (1.2.2)\n",
      "Requirement already satisfied: scipy>=1.7.3 in d:\\wpsystem\\s-1-5-21-3730388724-1026785739-871555777-1001\\appdata\\local\\packages\\pythonsoftwarefoundation.python.3.10_qbz5n2kfra8p0\\localcache\\local-packages\\python310\\site-packages (from quantus[captum]) (1.10.1)\n",
      "Requirement already satisfied: tqdm>=4.62.3 in d:\\wpsystem\\s-1-5-21-3730388724-1026785739-871555777-1001\\appdata\\local\\packages\\pythonsoftwarefoundation.python.3.10_qbz5n2kfra8p0\\localcache\\local-packages\\python310\\site-packages (from quantus[captum]) (4.64.1)\n",
      "Requirement already satisfied: matplotlib>=3.3.4 in d:\\wpsystem\\s-1-5-21-3730388724-1026785739-871555777-1001\\appdata\\local\\packages\\pythonsoftwarefoundation.python.3.10_qbz5n2kfra8p0\\localcache\\local-packages\\python310\\site-packages (from quantus[captum]) (3.6.0)\n",
      "Requirement already satisfied: captum>=0.6.0 in d:\\wpsystem\\s-1-5-21-3730388724-1026785739-871555777-1001\\appdata\\local\\packages\\pythonsoftwarefoundation.python.3.10_qbz5n2kfra8p0\\localcache\\local-packages\\python310\\site-packages (from quantus[captum]) (0.7.0)\n",
      "Requirement already satisfied: torch>=1.6 in d:\\wpsystem\\s-1-5-21-3730388724-1026785739-871555777-1001\\appdata\\local\\packages\\pythonsoftwarefoundation.python.3.10_qbz5n2kfra8p0\\localcache\\local-packages\\python310\\site-packages (from captum>=0.6.0->quantus[captum]) (1.11.0)\n",
      "Requirement already satisfied: contourpy>=1.0.1 in d:\\wpsystem\\s-1-5-21-3730388724-1026785739-871555777-1001\\appdata\\local\\packages\\pythonsoftwarefoundation.python.3.10_qbz5n2kfra8p0\\localcache\\local-packages\\python310\\site-packages (from matplotlib>=3.3.4->quantus[captum]) (1.0.5)\n",
      "Requirement already satisfied: cycler>=0.10 in d:\\wpsystem\\s-1-5-21-3730388724-1026785739-871555777-1001\\appdata\\local\\packages\\pythonsoftwarefoundation.python.3.10_qbz5n2kfra8p0\\localcache\\local-packages\\python310\\site-packages (from matplotlib>=3.3.4->quantus[captum]) (0.11.0)\n",
      "Requirement already satisfied: fonttools>=4.22.0 in d:\\wpsystem\\s-1-5-21-3730388724-1026785739-871555777-1001\\appdata\\local\\packages\\pythonsoftwarefoundation.python.3.10_qbz5n2kfra8p0\\localcache\\local-packages\\python310\\site-packages (from matplotlib>=3.3.4->quantus[captum]) (4.37.2)\n",
      "Requirement already satisfied: kiwisolver>=1.0.1 in d:\\wpsystem\\s-1-5-21-3730388724-1026785739-871555777-1001\\appdata\\local\\packages\\pythonsoftwarefoundation.python.3.10_qbz5n2kfra8p0\\localcache\\local-packages\\python310\\site-packages (from matplotlib>=3.3.4->quantus[captum]) (1.4.4)\n",
      "Requirement already satisfied: packaging>=20.0 in d:\\wpsystem\\s-1-5-21-3730388724-1026785739-871555777-1001\\appdata\\local\\packages\\pythonsoftwarefoundation.python.3.10_qbz5n2kfra8p0\\localcache\\local-packages\\python310\\site-packages (from matplotlib>=3.3.4->quantus[captum]) (21.3)\n",
      "Requirement already satisfied: pillow>=6.2.0 in d:\\wpsystem\\s-1-5-21-3730388724-1026785739-871555777-1001\\appdata\\local\\packages\\pythonsoftwarefoundation.python.3.10_qbz5n2kfra8p0\\localcache\\local-packages\\python310\\site-packages (from matplotlib>=3.3.4->quantus[captum]) (9.2.0)\n",
      "Requirement already satisfied: pyparsing>=2.2.1 in d:\\wpsystem\\s-1-5-21-3730388724-1026785739-871555777-1001\\appdata\\local\\packages\\pythonsoftwarefoundation.python.3.10_qbz5n2kfra8p0\\localcache\\local-packages\\python310\\site-packages (from matplotlib>=3.3.4->quantus[captum]) (3.0.9)\n",
      "Requirement already satisfied: python-dateutil>=2.7 in d:\\wpsystem\\s-1-5-21-3730388724-1026785739-871555777-1001\\appdata\\local\\packages\\pythonsoftwarefoundation.python.3.10_qbz5n2kfra8p0\\localcache\\local-packages\\python310\\site-packages (from matplotlib>=3.3.4->quantus[captum]) (2.8.2)\n",
      "Requirement already satisfied: pytz>=2020.1 in d:\\wpsystem\\s-1-5-21-3730388724-1026785739-871555777-1001\\appdata\\local\\packages\\pythonsoftwarefoundation.python.3.10_qbz5n2kfra8p0\\localcache\\local-packages\\python310\\site-packages (from pandas>=1.5.3->quantus[captum]) (2023.3)\n",
      "Requirement already satisfied: tzdata>=2022.1 in d:\\wpsystem\\s-1-5-21-3730388724-1026785739-871555777-1001\\appdata\\local\\packages\\pythonsoftwarefoundation.python.3.10_qbz5n2kfra8p0\\localcache\\local-packages\\python310\\site-packages (from pandas>=1.5.3->quantus[captum]) (2023.3)\n",
      "Requirement already satisfied: networkx>=2.8 in d:\\wpsystem\\s-1-5-21-3730388724-1026785739-871555777-1001\\appdata\\local\\packages\\pythonsoftwarefoundation.python.3.10_qbz5n2kfra8p0\\localcache\\local-packages\\python310\\site-packages (from scikit-image>=0.19.3->quantus[captum]) (3.1)\n",
      "Requirement already satisfied: imageio>=2.27 in d:\\wpsystem\\s-1-5-21-3730388724-1026785739-871555777-1001\\appdata\\local\\packages\\pythonsoftwarefoundation.python.3.10_qbz5n2kfra8p0\\localcache\\local-packages\\python310\\site-packages (from scikit-image>=0.19.3->quantus[captum]) (2.34.0)\n",
      "Requirement already satisfied: tifffile>=2022.8.12 in d:\\wpsystem\\s-1-5-21-3730388724-1026785739-871555777-1001\\appdata\\local\\packages\\pythonsoftwarefoundation.python.3.10_qbz5n2kfra8p0\\localcache\\local-packages\\python310\\site-packages (from scikit-image>=0.19.3->quantus[captum]) (2024.2.12)\n",
      "Requirement already satisfied: lazy_loader>=0.3 in d:\\wpsystem\\s-1-5-21-3730388724-1026785739-871555777-1001\\appdata\\local\\packages\\pythonsoftwarefoundation.python.3.10_qbz5n2kfra8p0\\localcache\\local-packages\\python310\\site-packages (from scikit-image>=0.19.3->quantus[captum]) (0.3)\n",
      "Requirement already satisfied: joblib>=1.1.1 in d:\\wpsystem\\s-1-5-21-3730388724-1026785739-871555777-1001\\appdata\\local\\packages\\pythonsoftwarefoundation.python.3.10_qbz5n2kfra8p0\\localcache\\local-packages\\python310\\site-packages (from scikit-learn>=0.24.2->quantus[captum]) (1.2.0)\n",
      "Requirement already satisfied: threadpoolctl>=2.0.0 in d:\\wpsystem\\s-1-5-21-3730388724-1026785739-871555777-1001\\appdata\\local\\packages\\pythonsoftwarefoundation.python.3.10_qbz5n2kfra8p0\\localcache\\local-packages\\python310\\site-packages (from scikit-learn>=0.24.2->quantus[captum]) (3.1.0)\n",
      "Requirement already satisfied: colorama in d:\\wpsystem\\s-1-5-21-3730388724-1026785739-871555777-1001\\appdata\\local\\packages\\pythonsoftwarefoundation.python.3.10_qbz5n2kfra8p0\\localcache\\local-packages\\python310\\site-packages (from tqdm>=4.62.3->quantus[captum]) (0.4.6)\n",
      "Collecting torch>=1.6 (from captum>=0.6.0->quantus[captum])\n",
      "  Downloading torch-2.2.2-cp310-cp310-win_amd64.whl (198.6 MB)\n",
      "     -------------------------------------- 198.6/198.6 MB 3.0 MB/s eta 0:00:00\n",
      "Requirement already satisfied: torchvision>=0.15.1 in d:\\wpsystem\\s-1-5-21-3730388724-1026785739-871555777-1001\\appdata\\local\\packages\\pythonsoftwarefoundation.python.3.10_qbz5n2kfra8p0\\localcache\\local-packages\\python310\\site-packages (from quantus[captum]) (0.16.1)\n",
      "Requirement already satisfied: six>=1.5 in d:\\wpsystem\\s-1-5-21-3730388724-1026785739-871555777-1001\\appdata\\local\\packages\\pythonsoftwarefoundation.python.3.10_qbz5n2kfra8p0\\localcache\\local-packages\\python310\\site-packages (from python-dateutil>=2.7->matplotlib>=3.3.4->quantus[captum]) (1.16.0)\n",
      "Requirement already satisfied: filelock in d:\\wpsystem\\s-1-5-21-3730388724-1026785739-871555777-1001\\appdata\\local\\packages\\pythonsoftwarefoundation.python.3.10_qbz5n2kfra8p0\\localcache\\local-packages\\python310\\site-packages (from torch>=1.6->captum>=0.6.0->quantus[captum]) (3.12.0)\n",
      "Requirement already satisfied: typing-extensions>=4.8.0 in d:\\wpsystem\\s-1-5-21-3730388724-1026785739-871555777-1001\\appdata\\local\\packages\\pythonsoftwarefoundation.python.3.10_qbz5n2kfra8p0\\localcache\\local-packages\\python310\\site-packages (from torch>=1.6->captum>=0.6.0->quantus[captum]) (4.9.0)\n",
      "Requirement already satisfied: sympy in d:\\wpsystem\\s-1-5-21-3730388724-1026785739-871555777-1001\\appdata\\local\\packages\\pythonsoftwarefoundation.python.3.10_qbz5n2kfra8p0\\localcache\\local-packages\\python310\\site-packages (from torch>=1.6->captum>=0.6.0->quantus[captum]) (1.12)\n",
      "Requirement already satisfied: jinja2 in d:\\wpsystem\\s-1-5-21-3730388724-1026785739-871555777-1001\\appdata\\local\\packages\\pythonsoftwarefoundation.python.3.10_qbz5n2kfra8p0\\localcache\\local-packages\\python310\\site-packages (from torch>=1.6->captum>=0.6.0->quantus[captum]) (3.1.2)\n",
      "Requirement already satisfied: fsspec in d:\\wpsystem\\s-1-5-21-3730388724-1026785739-871555777-1001\\appdata\\local\\packages\\pythonsoftwarefoundation.python.3.10_qbz5n2kfra8p0\\localcache\\local-packages\\python310\\site-packages (from torch>=1.6->captum>=0.6.0->quantus[captum]) (2023.5.0)\n",
      "Requirement already satisfied: requests in d:\\wpsystem\\s-1-5-21-3730388724-1026785739-871555777-1001\\appdata\\local\\packages\\pythonsoftwarefoundation.python.3.10_qbz5n2kfra8p0\\localcache\\local-packages\\python310\\site-packages (from torchvision>=0.15.1->quantus[captum]) (2.30.0)\n",
      "  Using cached torch-2.1.1-cp310-cp310-win_amd64.whl (192.3 MB)\n",
      "Requirement already satisfied: MarkupSafe>=2.0 in d:\\wpsystem\\s-1-5-21-3730388724-1026785739-871555777-1001\\appdata\\local\\packages\\pythonsoftwarefoundation.python.3.10_qbz5n2kfra8p0\\localcache\\local-packages\\python310\\site-packages (from jinja2->torch>=1.6->captum>=0.6.0->quantus[captum]) (2.1.1)\n",
      "Requirement already satisfied: charset-normalizer<4,>=2 in d:\\wpsystem\\s-1-5-21-3730388724-1026785739-871555777-1001\\appdata\\local\\packages\\pythonsoftwarefoundation.python.3.10_qbz5n2kfra8p0\\localcache\\local-packages\\python310\\site-packages (from requests->torchvision>=0.15.1->quantus[captum]) (3.1.0)\n",
      "Requirement already satisfied: idna<4,>=2.5 in d:\\wpsystem\\s-1-5-21-3730388724-1026785739-871555777-1001\\appdata\\local\\packages\\pythonsoftwarefoundation.python.3.10_qbz5n2kfra8p0\\localcache\\local-packages\\python310\\site-packages (from requests->torchvision>=0.15.1->quantus[captum]) (3.4)\n",
      "Requirement already satisfied: urllib3<3,>=1.21.1 in d:\\wpsystem\\s-1-5-21-3730388724-1026785739-871555777-1001\\appdata\\local\\packages\\pythonsoftwarefoundation.python.3.10_qbz5n2kfra8p0\\localcache\\local-packages\\python310\\site-packages (from requests->torchvision>=0.15.1->quantus[captum]) (1.26.15)\n",
      "Requirement already satisfied: certifi>=2017.4.17 in d:\\wpsystem\\s-1-5-21-3730388724-1026785739-871555777-1001\\appdata\\local\\packages\\pythonsoftwarefoundation.python.3.10_qbz5n2kfra8p0\\localcache\\local-packages\\python310\\site-packages (from requests->torchvision>=0.15.1->quantus[captum]) (2023.5.7)\n",
      "Requirement already satisfied: mpmath>=0.19 in d:\\wpsystem\\s-1-5-21-3730388724-1026785739-871555777-1001\\appdata\\local\\packages\\pythonsoftwarefoundation.python.3.10_qbz5n2kfra8p0\\localcache\\local-packages\\python310\\site-packages (from sympy->torch>=1.6->captum>=0.6.0->quantus[captum]) (1.3.0)\n",
      "Installing collected packages: torch\n",
      "  Attempting uninstall: torch\n",
      "    Found existing installation: torch 1.11.0\n",
      "    Uninstalling torch-1.11.0:\n"
     ]
    }
   ],
   "source": [
    "!pip install \"quantus[captum]\""
   ]
  },
  {
   "cell_type": "code",
   "execution_count": 2,
   "metadata": {},
   "outputs": [],
   "source": [
    "from prune_utils import *\n",
    "from dataloaders import *\n",
    "from scene_net import *\n",
    "from evaluation import *\n",
    "from quantus.metrics.faithfulness.irof import IROF\n",
    "import quantus\n",
    "import torch\n",
    "from torch.utils.data import DataLoader\n",
    "from dataloaders import *\n",
    "from torch.autograd import Variable\n",
    "import captum"
   ]
  },
  {
   "cell_type": "code",
   "execution_count": 3,
   "metadata": {},
   "outputs": [],
   "source": [
    "device = torch.device(\"cuda\" if torch.cuda.is_available() else \"cpu\")"
   ]
  },
  {
   "cell_type": "code",
   "execution_count": 4,
   "metadata": {},
   "outputs": [
    {
     "name": "stdout",
     "output_type": "stream",
     "text": [
      "d:\\Documents\\University\\AI BSc\\Year 3\\Thesis\\DiSparse-Multitask-Model-Compression\n"
     ]
    }
   ],
   "source": [
    "print(os.getcwd())"
   ]
  },
  {
   "cell_type": "code",
   "execution_count": 5,
   "metadata": {},
   "outputs": [],
   "source": [
    "DATA_ROOT = 'data/nyu_v2/nyu_v2'\n",
    "TASKS = [\"seg\", \"sn\"]\n",
    "TASKS_NUM_CLASS = [40, 3]\n",
    "IMAGE_SHAPE = (480, 640)"
   ]
  },
  {
   "cell_type": "code",
   "execution_count": 6,
   "metadata": {},
   "outputs": [
    {
     "name": "stdout",
     "output_type": "stream",
     "text": [
      "NYU_v2\n"
     ]
    }
   ],
   "source": [
    "test_dataset = NYU_v2(DATA_ROOT, 'test')\n",
    "test_loader = DataLoader(test_dataset, batch_size=1, num_workers=8, shuffle=True, pin_memory=True)"
   ]
  },
  {
   "cell_type": "code",
   "execution_count": 8,
   "metadata": {},
   "outputs": [],
   "source": [
    "model = SceneNet(TASKS_NUM_CLASS)"
   ]
  },
  {
   "cell_type": "code",
   "execution_count": 9,
   "metadata": {},
   "outputs": [],
   "source": [
    "for module in model.modules():\n",
    "    # Check if it's basic block\n",
    "    if isinstance(module, nn.modules.conv.Conv2d) or isinstance(module, nn.modules.Linear):\n",
    "        module = prune.identity(module, 'weight')"
   ]
  },
  {
   "cell_type": "code",
   "execution_count": 10,
   "metadata": {},
   "outputs": [
    {
     "data": {
      "text/plain": [
       "<All keys matched successfully>"
      ]
     },
     "execution_count": 10,
     "metadata": {},
     "output_type": "execute_result"
    }
   ],
   "source": [
    "# 3. Load the state dictionary into your model\n",
    "model.load_state_dict(torch.load('data/models/best_nyuv2_disparse_pt_90.pth', map_location=torch.device('cpu')))"
   ]
  },
  {
   "cell_type": "code",
   "execution_count": 11,
   "metadata": {},
   "outputs": [],
   "source": [
    "irof_metric = quantus.IROF(segmentation_method='slic', abs=False, normalise=True)"
   ]
  },
  {
   "cell_type": "code",
   "execution_count": 12,
   "metadata": {},
   "outputs": [
    {
     "data": {
      "text/plain": [
       "<quantus.metrics.faithfulness.irof.IROF at 0x1b43e1e6e60>"
      ]
     },
     "execution_count": 12,
     "metadata": {},
     "output_type": "execute_result"
    }
   ],
   "source": [
    "irof_metric"
   ]
  },
  {
   "cell_type": "code",
   "execution_count": 13,
   "metadata": {},
   "outputs": [],
   "source": [
    "#Prepare your data:\n",
    "#Ensure you have your model\n",
    "#input data (x_batch), \n",
    "#corresponding ground truth labels (y_batch), \n",
    "#and optionally pre-computed attributions (a_batch)."
   ]
  },
  {
   "cell_type": "code",
   "execution_count": 14,
   "metadata": {},
   "outputs": [],
   "source": [
    "# # Iterate over batches in the dataloader\n",
    "# for i, gt_batch in enumerate(test_loader):\n",
    "#     print(i)\n",
    "#     model.eval()\n",
    "#     gt_batch[\"img\"] = Variable(gt_batch[\"img\"]).to(device)\n",
    "#     if \"seg\" in gt_batch:\n",
    "#         gt_batch[\"seg\"] = Variable(gt_batch[\"seg\"]).to(device)\n",
    "#     if \"depth\" in gt_batch:\n",
    "#         gt_batch[\"depth\"] = Variable(gt_batch[\"depth\"]).to(device)\n",
    "#     if \"normal\" in gt_batch:\n",
    "#         gt_batch[\"normal\"] = Variable(gt_batch[\"normal\"]).to(device)\n",
    "#     if \"keypoint\" in gt_batch:\n",
    "#         gt_batch[\"keypoint\"] = Variable(\n",
    "#             gt_batch[\"keypoint\"]).to(device)\n",
    "#     if \"edge\" in gt_batch:\n",
    "#         gt_batch[\"edge\"] = Variable(gt_batch[\"edge\"]).to(device)\n",
    "\n",
    "#     # Call the metric instance to produce scores.\n",
    "#     results = {method: irof_metric(model=model, \n",
    "#                                     x_batch=gt_batch[\"img\"],\n",
    "#                                     y_batch=gt_batch[\"seg\"],\n",
    "#                                     a_batch=None,\n",
    "#                                     device=device,\n",
    "#                                     explain_func=captum.explain, \n",
    "#                                     explain_func_kwargs={\"method\": method}) for method in [\"Saliency\", \"IntegratedGradients\"]}\n",
    "\n",
    "#     # Plot example!\n",
    "#     #region_perturb.plot(results=results) \n",
    "#     results"
   ]
  },
  {
   "cell_type": "code",
   "execution_count": 15,
   "metadata": {},
   "outputs": [
    {
     "name": "stdout",
     "output_type": "stream",
     "text": [
      "2.1.1+cpu\n"
     ]
    }
   ],
   "source": [
    "print(torch.__version__)"
   ]
  },
  {
   "cell_type": "code",
   "execution_count": 20,
   "metadata": {},
   "outputs": [],
   "source": [
    "# Iterate over batches in the dataloader\n",
    "for i, gt_batch in enumerate(test_loader):\n",
    "    print(i)\n",
    "    model.eval()\n",
    "    gt_batch[\"img\"] = Variable(gt_batch[\"img\"]).to(device)\n",
    "    if \"seg\" in gt_batch:\n",
    "        gt_batch[\"seg\"] = Variable(gt_batch[\"seg\"]).to(device)\n",
    "    if \"depth\" in gt_batch:\n",
    "        gt_batch[\"depth\"] = Variable(gt_batch[\"depth\"]).to(device)\n",
    "    if \"normal\" in gt_batch:\n",
    "        gt_batch[\"normal\"] = Variable(gt_batch[\"normal\"]).to(device)\n",
    "    if \"keypoint\" in gt_batch:\n",
    "        gt_batch[\"keypoint\"] = Variable(\n",
    "            gt_batch[\"keypoint\"]).to(device)\n",
    "    if \"edge\" in gt_batch:\n",
    "        gt_batch[\"edge\"] = Variable(gt_batch[\"edge\"]).to(device)\n",
    "\n",
    "    # Return IFOF scores in an one-liner - by calling the metric instance.\n",
    "    scores = {method: quantus.IROF(segmentation_method=\"slic\",\n",
    "        perturb_baseline=\"mean\",\n",
    "        perturb_func=quantus.perturb_func.baseline_replacement_by_indices,\n",
    "        return_aggregate=False,\n",
    "    )(model=model,\n",
    "    x_batch=gt_batch[\"img\"],\n",
    "    y_batch=gt_batch[\"seg\"],\n",
    "    a_batch=None,\n",
    "    device=device,\n",
    "    explain_func=quantus.explain, \n",
    "    explain_func_kwargs={\"method\": method}) for method in [\"Saliency\"]}\n",
    "\n",
    "    scores # felzenswalb"
   ]
  }
 ],
 "metadata": {
  "kernelspec": {
   "display_name": "nashmtl",
   "language": "python",
   "name": "python3"
  },
  "language_info": {
   "codemirror_mode": {
    "name": "ipython",
    "version": 3
   },
   "file_extension": ".py",
   "mimetype": "text/x-python",
   "name": "python",
   "nbconvert_exporter": "python",
   "pygments_lexer": "ipython3",
   "version": "3.10.11"
  }
 },
 "nbformat": 4,
 "nbformat_minor": 2
}
